{
 "cells": [
  {
   "cell_type": "markdown",
   "metadata": {},
   "source": [
    "<div style=\"margin-top: 25px;\">\n",
    "    <h1 style=\"width: 100%; text-align: center; font-size: 5rem;\">\n",
    "        Web scraper\n",
    "    </h1>\n",
    "    <div style=\"text-align: center; margin-top:15px;\">\n",
    "        <h4 style=\"margin: 5px;\">Rodrigo C. Barros</h4>\n",
    "        <h4 style=\"margin: 5px;\">Nathan S. Gavenski</h4>\n",
    "        <h4 style=\"margin: 5px;\">Escola Politécnica - PUCRS</h4>\n",
    "    </div>\n",
    "    <div style=\"margin-top: 35px;\">\n",
    "        <p>\n",
    "            Este notebook irá entrar na página do IMDB e buscar pelo filme de escolha do aluno. <br>\n",
    "            Para que a execução seja feita corretamente o <strong>driver do Chrome</strong> (baixado do Moodle) deve ser colocado na pasta <strong>\"root\"</strong> do projeto. <br>\n",
    "            Como os usuários da PUCRS não são administradores das máquinas não iremos criar ambientes de desenvolvimento, então para que as dependências corretas estejam instaladas é preciso executar a primeira célula.\n",
    "        </p>\n",
    "    </div>\n",
    "</div>"
   ]
  },
  {
   "cell_type": "markdown",
   "metadata": {},
   "source": [
    "<h5>Essa célula irá instalar as dependências</h5>"
   ]
  },
  {
   "cell_type": "code",
   "execution_count": null,
   "metadata": {
    "scrolled": false
   },
   "outputs": [],
   "source": [
    "!pip install -r requirements.txt"
   ]
  },
  {
   "cell_type": "markdown",
   "metadata": {},
   "source": [
    "<h5>Vamos agora importar a classe criado pelo professor e o webdriver do Selenium</h5>"
   ]
  },
  {
   "cell_type": "code",
   "execution_count": null,
   "metadata": {},
   "outputs": [],
   "source": [
    "from Movie import Movie\n",
    "from selenium import webdriver"
   ]
  },
  {
   "cell_type": "markdown",
   "metadata": {},
   "source": [
    "<h5> Na próxima célula iremos abrir o navegador via o selenium e escolher o filme que queremos pesquisar </h5>\n",
    "<p> Note que caso não tenha colocado o Driver no \"root\" do projeto o caminho deve mudar </p>"
   ]
  },
  {
   "cell_type": "code",
   "execution_count": null,
   "metadata": {},
   "outputs": [],
   "source": [
    "driver = webdriver.Chrome(executable_path='./chromedriver.exe')\n",
    "driver.maximize_window()\n",
    "\n",
    "driver.get(url=\"https://www.imdb.com/\")\n",
    "title = input('Qual filme gostaria de pesquisa? ')\n",
    "print(f'Título escolhido: {title}')"
   ]
  },
  {
   "cell_type": "markdown",
   "metadata": {},
   "source": [
    "<h5> Agora vamos pesquisa pelo título que colocamos na célula anterior </h5>\n",
    "<p> Note que o site do IMDB limita o resultado da busca para os 5 primeiros títulos. <br> \n",
    "    Se o título que vocês escolheu tem mais de 5 filmes não iremos selecionar eles agora! </p>"
   ]
  },
  {
   "cell_type": "code",
   "execution_count": null,
   "metadata": {},
   "outputs": [],
   "source": [
    "# Procura pelo WebElement com id = 'navbar-query' e escreve o título\n",
    "search = driver.find_element_by_id('navbar-query')\n",
    "search.send_keys(title)\n",
    "\n",
    "# Procura pelo botão de busca e clica nele\n",
    "driver.find_element_by_id('navbar-submit-button').click()\n",
    "\n",
    "# Procura pela tabela de filmes e grava todos os filmes listados\n",
    "table = driver.find_element_by_class_name('findList')\n",
    "rows = table.find_elements_by_class_name('findResult')\n",
    "print(f'Número de filmes encontrados: {len(rows)}')"
   ]
  },
  {
   "cell_type": "markdown",
   "metadata": {},
   "source": [
    "<h5> Com a lista de filmes em tela e já salvas na variável \"rows\", vamos agora buscar todos os links </h5>\n",
    "<p> Já que não estamos testando o site do IMDB não precisamos nos preocupar em usar o site como um usuário <br>Podemos salvar os links de cada filme em uma lista e depois só navegar para cada URL buscando as informações que queremos.</p>"
   ]
  },
  {
   "cell_type": "code",
   "execution_count": null,
   "metadata": {},
   "outputs": [],
   "source": [
    "# Aqui vamos iterar sobre a lista \"rows\" e pegar o WebElement de cada filme\n",
    "movies = [r for r in rows if title in r.text]\n",
    "print(f'Número de filmes que tenham o título \"{title}\": {len(movies)}')\n",
    "\n",
    "# Com cada filme separado em lista, podemos então buscar o link para não precisar navegar no site\n",
    "links = [link.find_element_by_tag_name('a').get_attribute('href') for link in movies]\n",
    "\n",
    "print('\\nLink de cada filme:')\n",
    "for link in links:\n",
    "    print('\\t' + link)"
   ]
  },
  {
   "cell_type": "markdown",
   "metadata": {},
   "source": [
    "<h5> Com os links em mão agora só precisamos direcionar o WebDriver para as URLs encontradas e salvar as informações na classe Movie </h5>"
   ]
  },
  {
   "cell_type": "code",
   "execution_count": null,
   "metadata": {},
   "outputs": [],
   "source": [
    "movies = []\n",
    "\n",
    "for link in links:\n",
    "    driver.get(link)\n",
    "    try:\n",
    "        # Aqui estamos usando xpath para selecionar o elemento h1 de div's que tenham a classe \"title_wrapper\"    \n",
    "        title = driver.find_element_by_xpath('//div[@class=\"title_wrapper\"]/h1').text\n",
    "\n",
    "        # Depois vamos selecionar o elemento com a classe \"poster\" e nele achar a tag img e pegar o atributo src\n",
    "        poster_url = driver.find_element_by_class_name('poster')\\\n",
    "                                .find_element_by_tag_name('img')\\\n",
    "                                .get_attribute('src')\n",
    "\n",
    "        # Usar o xpath para encontrar o elemento span contendo atributo \"itemprop\" com valor \"ratingValue\"\n",
    "        rate = driver.find_element_by_xpath('//span[@itemprop=\"ratingValue\"]').text\n",
    "\n",
    "        # Aqui vamos achar o elemento que tenha o id = \"titleStoryLine\"\n",
    "        storyline = driver.find_element_by_id('titleStoryLine')      \n",
    "        plot_keywords = storyline.find_elements_by_class_name('itemprop')\n",
    "\n",
    "        # Com os elementos pai já salvos agora podemos pegar a descrição, palavras chave e gêneros de cada filme\n",
    "        description = storyline.find_element_by_xpath('//div/p/span').text\n",
    "        keywords = [key.text for key in plot_keywords]    \n",
    "        genres = [link.text for link in storyline\\\n",
    "                        .find_element_by_xpath('//h4[contains(text(), \"Genres\")]')\\\n",
    "                        .find_element_by_xpath('./..')\\\n",
    "                        .find_elements_by_tag_name('a')]\n",
    "\n",
    "        # Agora só precisamos adicionar o novo filme em nossa lista de filmes\n",
    "        movies.append(Movie(title, poster_url, rate, description, keywords, genres))\n",
    "    except:         \n",
    "        continue"
   ]
  },
  {
   "cell_type": "code",
   "execution_count": null,
   "metadata": {
    "scrolled": false
   },
   "outputs": [],
   "source": [
    "from PIL import Image\n",
    "print(f'Filme: {movies[0].title}')\n",
    "print(f'Avaliação: {movies[0].rate}')\n",
    "print(f'Palavras Chaves: {movies[0].keywords}')\n",
    "print(f'Gênero: {movies[0].genres}')\n",
    "print(f'Descrição: {movies[0].description}')\n",
    "print('Poster: ')\n",
    "display(Image.open(movies[0].poster_path))"
   ]
  },
  {
   "cell_type": "markdown",
   "metadata": {},
   "source": [
    "# Desafio! \n",
    "\n",
    "#### Agora que já entendemos como o framework funciona podemos tentar melhorar nosso script\n",
    "* Mudar o script para pegar todos os filmes (além dos 5 primeiros)\n",
    "* Tentar pegar informações de box office de cada filme\n",
    "* Tentar baixar o trailer de cada filme"
   ]
  }
 ],
 "metadata": {
  "celltoolbar": "Raw Cell Format",
  "kernelspec": {
   "display_name": "Python 3",
   "language": "python",
   "name": "python3"
  },
  "language_info": {
   "codemirror_mode": {
    "name": "ipython",
    "version": 3
   },
   "file_extension": ".py",
   "mimetype": "text/x-python",
   "name": "python",
   "nbconvert_exporter": "python",
   "pygments_lexer": "ipython3",
   "version": "3.7.0"
  }
 },
 "nbformat": 4,
 "nbformat_minor": 2
}
